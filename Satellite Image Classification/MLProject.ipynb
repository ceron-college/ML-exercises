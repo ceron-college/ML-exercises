{
  "nbformat": 4,
  "nbformat_minor": 0,
  "metadata": {
    "colab": {
      "provenance": []
    },
    "kernelspec": {
      "name": "python3",
      "display_name": "Python 3"
    },
    "language_info": {
      "name": "python"
    }
  },
  "cells": [
    {
      "cell_type": "markdown",
      "source": [
        "Imports"
      ],
      "metadata": {
        "id": "J_FH_Bap6JIX"
      }
    },
    {
      "cell_type": "code",
      "source": [
        "import numpy as np\n",
        "import matplotlib.pyplot as plt\n",
        "from tensorflow.keras import Model\n",
        "from tensorflow.keras.models import Sequential\n",
        "from tensorflow.keras.layers import Input, Conv2D, MaxPooling2D, Flatten, Dense, Dropout, BatchNormalization, GlobalAveragePooling2D\n",
        "from tensorflow.keras.preprocessing.image import ImageDataGenerator\n",
        "from tensorflow.keras.optimizers import Adam\n",
        "from sklearn.metrics import confusion_matrix, classification_report\n",
        "import tensorflow as tf\n",
        "import os\n",
        "import shutil\n",
        "\n",
        "# Check for GPU availability\n",
        "gpu_devices = tf.config.experimental.list_physical_devices('GPU')\n",
        "if gpu_devices:\n",
        "    print(\"GPU is available.\")\n",
        "else:\n",
        "    print(\"GPU is NOT available.\")"
      ],
      "metadata": {
        "colab": {
          "base_uri": "https://localhost:8080/"
        },
        "id": "PxSSdxrI6K0y",
        "outputId": "42cff1e1-02b5-42db-931f-b3d33e6f3e2e"
      },
      "execution_count": null,
      "outputs": [
        {
          "output_type": "stream",
          "name": "stdout",
          "text": [
            "GPU is NOT available.\n"
          ]
        }
      ]
    },
    {
      "cell_type": "markdown",
      "source": [
        "Split to datasets"
      ],
      "metadata": {
        "id": "R5N653dw6Gee"
      }
    },
    {
      "cell_type": "code",
      "source": [
        "# Mount Google Drive\n",
        "from google.colab import drive\n",
        "drive.mount('/content/drive')\n",
        "\n",
        "# Base path for Google Drive data\n",
        "base_path = '/content/drive/MyDrive/data'\n",
        "\n",
        "# Categories of images\n",
        "categories = ['desert', 'green_area', 'water', 'cloudy']\n",
        "\n",
        "# Ratios for splitting\n",
        "train_ratio = 0.8\n",
        "\n",
        "# Create directories for training and testing datasets if they don't already exist\n",
        "train_path = os.path.join(base_path, 'training_set')\n",
        "test_path = os.path.join(base_path, 'test_set')\n",
        "\n",
        "if not os.path.exists(train_path):\n",
        "    os.makedirs(train_path)\n",
        "if not os.path.exists(test_path):\n",
        "    os.makedirs(test_path)\n",
        "\n",
        "# For each category, split the data into training and testing\n",
        "for category in categories:\n",
        "    category_path = os.path.join(base_path, category)\n",
        "    files = os.listdir(category_path)\n",
        "    np.random.shuffle(files)  # Shuffle to randomize the files selected for testing\n",
        "\n",
        "    # Split point\n",
        "    split_point = int(len(files) * train_ratio)\n",
        "\n",
        "    # Training and testing sets\n",
        "    train_files = files[:split_point]\n",
        "    test_files = files[split_point:]\n",
        "\n",
        "    # Create category-specific directories in train and test folders\n",
        "    train_category_path = os.path.join(train_path, category)\n",
        "    test_category_path = os.path.join(test_path, category)\n",
        "\n",
        "    if not os.path.exists(train_category_path):\n",
        "        os.makedirs(train_category_path)\n",
        "    if not os.path.exists(test_category_path):\n",
        "        os.makedirs(test_category_path)\n",
        "\n",
        "    # Move files to the respective directories\n",
        "    for file in train_files:\n",
        "        shutil.move(os.path.join(category_path, file), os.path.join(train_category_path, file))\n",
        "    for file in test_files:\n",
        "        shutil.move(os.path.join(category_path, file), os.path.join(test_category_path, file))\n",
        "\n",
        "print(\"Data has been split into training and testing sets.\")"
      ],
      "metadata": {
        "id": "e_nQRyvh6EKC",
        "colab": {
          "base_uri": "https://localhost:8080/"
        },
        "outputId": "15ecd313-cce3-4683-c1ab-92258441401c"
      },
      "execution_count": null,
      "outputs": [
        {
          "output_type": "stream",
          "name": "stdout",
          "text": [
            "Drive already mounted at /content/drive; to attempt to forcibly remount, call drive.mount(\"/content/drive\", force_remount=True).\n",
            "Data has been split into training and testing sets.\n"
          ]
        }
      ]
    },
    {
      "cell_type": "code",
      "execution_count": null,
      "metadata": {
        "colab": {
          "base_uri": "https://localhost:8080/"
        },
        "id": "NGJTOcOy3bjP",
        "outputId": "473d28ec-12ef-4e62-9588-dc93a1ca9861"
      },
      "outputs": [
        {
          "output_type": "stream",
          "name": "stdout",
          "text": [
            "Found 4504 images belonging to 4 classes.\n",
            "Found 1127 images belonging to 4 classes.\n",
            "Epoch 1/5\n",
            "141/141 [==============================] - 1722s 12s/step - loss: 0.7431 - accuracy: 0.6241 - val_loss: 0.6528 - val_accuracy: 0.6406\n",
            "Epoch 2/5\n",
            "141/141 [==============================] - 1494s 11s/step - loss: 0.5342 - accuracy: 0.7003 - val_loss: 0.6137 - val_accuracy: 0.6974\n",
            "Epoch 3/5\n",
            "141/141 [==============================] - 1422s 10s/step - loss: 0.5507 - accuracy: 0.6994 - val_loss: 0.5993 - val_accuracy: 0.6637\n",
            "Epoch 4/5\n",
            "141/141 [==============================] - 1401s 10s/step - loss: 0.5307 - accuracy: 0.6985 - val_loss: 0.4534 - val_accuracy: 0.7587\n",
            "Epoch 5/5\n",
            "141/141 [==============================] - 1403s 10s/step - loss: 0.5206 - accuracy: 0.7094 - val_loss: 0.4691 - val_accuracy: 0.7436\n"
          ]
        }
      ],
      "source": [
        "# Image dimensions and batch size\n",
        "img_width, img_height = 255, 255\n",
        "batch_size = 32\n",
        "\n",
        "# Create image data generators for training and testing\n",
        "# Data augmentation for the training set\n",
        "train_datagen = ImageDataGenerator(\n",
        "    rescale=1./255,\n",
        "    rotation_range=20,      # Random rotation within the range [-20, 20] degrees\n",
        "    width_shift_range=0.1,  # Random horizontal shift by up to 10% of the width\n",
        "    height_shift_range=0.1, # Random vertical shift by up to 10% of the height\n",
        "    shear_range=0.2,        # Shear intensity (shear angle in counter-clockwise direction in radians)\n",
        "    zoom_range=0.2,         # Random zoom up to 20%\n",
        "    horizontal_flip=True,   # Randomly flip inputs horizontally\n",
        "    fill_mode='nearest'     # Strategy used for filling in newly created pixels\n",
        ")\n",
        "\n",
        "# Rescaling for the test set\n",
        "test_datagen = ImageDataGenerator(rescale=1./255)\n",
        "\n",
        "train_generator = train_datagen.flow_from_directory(\n",
        "    train_path,\n",
        "    target_size=(img_width, img_height),\n",
        "    batch_size=batch_size,\n",
        "    class_mode='categorical',\n",
        ")\n",
        "\n",
        "test_generator = test_datagen.flow_from_directory(\n",
        "    test_path,\n",
        "    target_size=(img_width, img_height),\n",
        "    batch_size=batch_size,\n",
        "    class_mode='categorical',\n",
        "    shuffle=False  # Keep data in the same order as the directory\n",
        ")\n",
        "\n",
        "# Define the CNN model\n",
        "inputs = Input(shape=(255, 255, 3))\n",
        "x = Conv2D(32, (3, 3), activation='relu')(inputs)\n",
        "x = Conv2D(32, (3, 3), activation='relu')(x)\n",
        "x = MaxPooling2D((2, 2))(x)\n",
        "x = Conv2D(64, (3, 3), activation='relu')(x)\n",
        "x = MaxPooling2D((2, 2))(x)\n",
        "x = Conv2D(128, (3, 3), activation='relu')(x)\n",
        "x = MaxPooling2D((2, 2))(x)\n",
        "x = Flatten()(x)\n",
        "x = Dense(128, activation='relu')(x)\n",
        "x = Dropout(0.5)(x)\n",
        "outputs = Dense(4, activation='softmax')(x)\n",
        "\n",
        "model = Model(inputs=inputs, outputs=outputs)\n",
        "\n",
        "# Compile the model\n",
        "model.compile(optimizer='adam', loss='categorical_crossentropy', metrics=['accuracy'])\n",
        "\n",
        "# Train the model\n",
        "history = model.fit(\n",
        "    train_generator,\n",
        "    epochs=5,\n",
        "    validation_data=test_generator,\n",
        ")"
      ]
    },
    {
      "cell_type": "markdown",
      "source": [
        "## Save & Load Model"
      ],
      "metadata": {
        "id": "cYEOYMZ5OWCo"
      }
    },
    {
      "cell_type": "code",
      "source": [
        "from tensorflow.keras.models import load_model\n",
        "# Save the model as an h5 file\n",
        "model.save('Model.h5')\n",
        "\n",
        "# Load the model\n",
        "model = load_model('Model.h5')"
      ],
      "metadata": {
        "colab": {
          "base_uri": "https://localhost:8080/"
        },
        "id": "TlB_PNwbOYb_",
        "outputId": "ac14ba35-e1f9-4c03-d5d1-029a1a9d7f09"
      },
      "execution_count": 28,
      "outputs": [
        {
          "output_type": "stream",
          "name": "stderr",
          "text": [
            "/usr/local/lib/python3.10/dist-packages/keras/src/engine/training.py:3103: UserWarning: You are saving your model as an HDF5 file via `model.save()`. This file format is considered legacy. We recommend using instead the native Keras format, e.g. `model.save('my_model.keras')`.\n",
            "  saving_api.save_model(\n"
          ]
        }
      ]
    },
    {
      "cell_type": "markdown",
      "source": [
        "## Model Summary"
      ],
      "metadata": {
        "id": "If4SwFwVD4E_"
      }
    },
    {
      "cell_type": "code",
      "source": [
        "# Display the model summary\n",
        "model.summary()"
      ],
      "metadata": {
        "colab": {
          "base_uri": "https://localhost:8080/"
        },
        "id": "oSy6EoPkD30M",
        "outputId": "5a000da6-7e1c-4dc2-d4bb-52f26fcb7530"
      },
      "execution_count": 29,
      "outputs": [
        {
          "output_type": "stream",
          "name": "stdout",
          "text": [
            "Model: \"model_3\"\n",
            "_________________________________________________________________\n",
            " Layer (type)                Output Shape              Param #   \n",
            "=================================================================\n",
            " input_5 (InputLayer)        [(None, 255, 255, 3)]     0         \n",
            "                                                                 \n",
            " conv2d_16 (Conv2D)          (None, 253, 253, 32)      896       \n",
            "                                                                 \n",
            " conv2d_17 (Conv2D)          (None, 251, 251, 32)      9248      \n",
            "                                                                 \n",
            " max_pooling2d_12 (MaxPooli  (None, 125, 125, 32)      0         \n",
            " ng2D)                                                           \n",
            "                                                                 \n",
            " conv2d_18 (Conv2D)          (None, 123, 123, 64)      18496     \n",
            "                                                                 \n",
            " max_pooling2d_13 (MaxPooli  (None, 61, 61, 64)        0         \n",
            " ng2D)                                                           \n",
            "                                                                 \n",
            " conv2d_19 (Conv2D)          (None, 59, 59, 128)       73856     \n",
            "                                                                 \n",
            " max_pooling2d_14 (MaxPooli  (None, 29, 29, 128)       0         \n",
            " ng2D)                                                           \n",
            "                                                                 \n",
            " flatten_4 (Flatten)         (None, 107648)            0         \n",
            "                                                                 \n",
            " dense_7 (Dense)             (None, 128)               13779072  \n",
            "                                                                 \n",
            " dropout_3 (Dropout)         (None, 128)               0         \n",
            "                                                                 \n",
            " dense_8 (Dense)             (None, 4)                 516       \n",
            "                                                                 \n",
            "=================================================================\n",
            "Total params: 13882084 (52.96 MB)\n",
            "Trainable params: 13882084 (52.96 MB)\n",
            "Non-trainable params: 0 (0.00 Byte)\n",
            "_________________________________________________________________\n"
          ]
        }
      ]
    },
    {
      "cell_type": "markdown",
      "source": [
        "## Evaluate the model"
      ],
      "metadata": {
        "id": "4XI1MW-QGeXK"
      }
    },
    {
      "cell_type": "code",
      "source": [
        "test_loss, test_acc = model.evaluate(test_generator, verbose=2)\n",
        "print(f'Test accuracy: {test_acc:.2f}')"
      ],
      "metadata": {
        "colab": {
          "base_uri": "https://localhost:8080/"
        },
        "id": "swhuZ-BaBrlT",
        "outputId": "b8097c1e-0b92-4fe1-fe94-7d2b1bb12217"
      },
      "execution_count": 30,
      "outputs": [
        {
          "output_type": "stream",
          "name": "stdout",
          "text": [
            "36/36 - 89s - loss: 0.4691 - accuracy: 0.7436 - 89s/epoch - 2s/step\n",
            "Test accuracy: 0.74\n"
          ]
        }
      ]
    },
    {
      "cell_type": "markdown",
      "source": [
        "## Predict on the test data"
      ],
      "metadata": {
        "id": "yojr-IrwGhS-"
      }
    },
    {
      "cell_type": "code",
      "source": [
        "from sklearn.metrics import confusion_matrix, classification_report\n",
        "import matplotlib.pyplot as plt\n",
        "import itertools\n",
        "\n",
        "\n",
        "# Get the model predictions for the test set\n",
        "y_pred = model.predict(test_generator)\n",
        "y_pred_classes = np.argmax(y_pred, axis=1)\n",
        "\n",
        "# Get true labels\n",
        "y_true = test_generator.classes\n",
        "\n",
        "# Generate the confusion matrix\n",
        "cm = confusion_matrix(y_true, y_pred_classes)\n",
        "\n",
        "\n",
        "# Classification report\n",
        "target_names = ['Cloudy', 'Desert', 'Green_Area', 'Water']  # Ensure this matches your categories\n",
        "print('Classification Report')\n",
        "print(classification_report(y_true, y_pred_classes, target_names=target_names))\n",
        "\n",
        "# Plot the confusion matrix\n",
        "plt.figure(figsize=(8, 8))\n",
        "plt.imshow(cm, cmap=plt.cm.Blues)\n",
        "plt.title(\"Confusion Matrix\")\n",
        "plt.colorbar()\n",
        "\n",
        "tick_marks = np.arange(len(target_names))\n",
        "plt.xticks(tick_marks, target_names, rotation=45)\n",
        "plt.yticks(tick_marks, target_names)\n",
        "\n",
        "# Add values to the plot\n",
        "threshold = cm.max() / 2.0\n",
        "for i, j in itertools.product(range(cm.shape[0]), range(cm.shape[1])):\n",
        "    plt.text(j, i, cm[i, j], horizontalalignment=\"center\", color=\"white\" if cm[i, j] > threshold else \"black\")\n",
        "\n",
        "plt.tight_layout()\n",
        "plt.ylabel('True label')\n",
        "plt.xlabel('Predicted label')\n",
        "plt.show()"
      ],
      "metadata": {
        "colab": {
          "base_uri": "https://localhost:8080/",
          "height": 1000
        },
        "id": "4F8A6f3KC459",
        "outputId": "c9e18069-0c15-43ac-fcda-c373104f8629"
      },
      "execution_count": 27,
      "outputs": [
        {
          "output_type": "stream",
          "name": "stdout",
          "text": [
            "36/36 [==============================] - 130s 4s/step\n",
            "Classification Report\n",
            "              precision    recall  f1-score   support\n",
            "\n",
            "      Cloudy       0.92      0.81      0.86       300\n",
            "      Desert       0.81      0.97      0.88       227\n",
            "  Green_Area       0.59      0.99      0.74       300\n",
            "       Water       0.91      0.26      0.40       300\n",
            "\n",
            "    accuracy                           0.74      1127\n",
            "   macro avg       0.81      0.76      0.72      1127\n",
            "weighted avg       0.81      0.74      0.71      1127\n",
            "\n"
          ]
        },
        {
          "output_type": "display_data",
          "data": {
            "text/plain": [
              "<Figure size 800x800 with 2 Axes>"
            ],
            "image/png": "[encoded data removed]"
          },
          "metadata": {}
        }
      ]
    }
  ]
}