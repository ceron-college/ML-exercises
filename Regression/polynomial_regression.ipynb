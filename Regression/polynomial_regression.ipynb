{
  "nbformat": 4,
  "nbformat_minor": 0,
  "metadata": {
    "colab": {
      "provenance": []
    },
    "kernelspec": {
      "name": "python3",
      "display_name": "Python 3"
    },
    "language_info": {
      "name": "python"
    }
  },
  "cells": [
    {
      "cell_type": "code",
      "execution_count": 4,
      "metadata": {
        "colab": {
          "base_uri": "https://localhost:8080/"
        },
        "id": "DbdWVH7KE044",
        "outputId": "f7a6dac5-3131-4ddb-f535-9f2c71fe93e6"
      },
      "outputs": [
        {
          "output_type": "stream",
          "name": "stderr",
          "text": [
            "<ipython-input-4-900092d467bb>:11: DtypeWarning: Columns (47,73) have mixed types. Specify dtype option on import or set low_memory=False.\n",
            "  dataset = pd.read_csv(file_path)\n"
          ]
        },
        {
          "output_type": "stream",
          "name": "stdout",
          "text": [
            "R-squared: 0.8742038663367315\n",
            "Mean Squared Error: 2.2487147701558614\n",
            "Predictions vs Actual Values:\n",
            "[[13.77 16.12]\n",
            " [ 6.23  6.26]\n",
            " [ 8.26  7.88]\n",
            " ...\n",
            " [ 8.64  9.34]\n",
            " [ 5.63  5.46]\n",
            " [10.5  10.27]]\n"
          ]
        }
      ],
      "source": [
        "import numpy as np\n",
        "import pandas as pd\n",
        "from sklearn.model_selection import train_test_split\n",
        "from sklearn.preprocessing import PolynomialFeatures\n",
        "from sklearn.linear_model import LinearRegression\n",
        "from sklearn.metrics import mean_squared_error\n",
        "from google.colab import drive\n",
        "\n",
        "# Load the dataset\n",
        "file_path = '/content/drive/MyDrive/Colab Notebooks/bottle.csv'\n",
        "dataset = pd.read_csv(file_path)\n",
        "\n",
        "# Clean the dataset by removing rows with missing values\n",
        "dataset_clean = dataset.dropna(subset=['T_degC', 'Salnty', 'Depthm', 'O2ml_L'])\n",
        "\n",
        "# Select independent and dependent variables\n",
        "X = dataset_clean[['Salnty', 'Depthm', 'O2ml_L']].values\n",
        "y = dataset_clean['T_degC'].values\n",
        "\n",
        "# Split the data into training and test sets\n",
        "X_train, X_test, y_train, y_test = train_test_split(X, y, test_size=0.2, random_state=0)\n",
        "\n",
        "# Generate polynomial features\n",
        "degree = 3  # Degree of polynomial features\n",
        "poly = PolynomialFeatures(degree=degree)\n",
        "X_poly_train = poly.fit_transform(X_train)\n",
        "X_poly_test = poly.transform(X_test)\n",
        "\n",
        "# Train a linear regression model on the polynomial features\n",
        "model = LinearRegression()\n",
        "model.fit(X_poly_train, y_train)\n",
        "\n",
        "# Predict the water temperature\n",
        "y_pred = model.predict(X_poly_test)\n",
        "\n",
        "# R^2\n",
        "r_squared = model.score(X_poly_test, y_test)\n",
        "print(f'R-squared: {r_squared}')\n",
        "\n",
        "# Evaluate the model\n",
        "mse = mean_squared_error(y_test, y_pred)\n",
        "print(f'Mean Squared Error: {mse}')\n",
        "\n",
        "# Print predictions and actual values\n",
        "np.set_printoptions(precision=2)\n",
        "comparison = np.concatenate((y_pred.reshape(len(y_pred),1), y_test.reshape(len(y_test),1)), axis=1)\n",
        "print(\"Predictions vs Actual Values:\")\n",
        "print(comparison)"
      ]
    },
    {
      "cell_type": "code",
      "source": [],
      "metadata": {
        "id": "_nJJirS0S0rU"
      },
      "execution_count": 2,
      "outputs": []
    }
  ]
}