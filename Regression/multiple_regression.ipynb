{
  "nbformat": 4,
  "nbformat_minor": 0,
  "metadata": {
    "colab": {
      "provenance": []
    },
    "kernelspec": {
      "name": "python3",
      "display_name": "Python 3"
    },
    "language_info": {
      "name": "python"
    }
  },
  "cells": [
    {
      "cell_type": "code",
      "execution_count": 5,
      "metadata": {
        "colab": {
          "base_uri": "https://localhost:8080/"
        },
        "id": "iD1LZ1z5CzTk",
        "outputId": "3e930af8-845c-4600-910b-5ff9e261eff3"
      },
      "outputs": [
        {
          "output_type": "stream",
          "name": "stderr",
          "text": [
            "<ipython-input-5-550da581908f>:10: DtypeWarning: Columns (47,73) have mixed types. Specify dtype option on import or set low_memory=False.\n",
            "  dataset = pd.read_csv(dataset_path)\n"
          ]
        },
        {
          "output_type": "stream",
          "name": "stdout",
          "text": [
            "Predictions vs Actual Values:\n",
            "[[13.93 16.12]\n",
            " [ 6.45  6.26]\n",
            " [ 6.26  7.88]\n",
            " ...\n",
            " [ 6.99  9.34]\n",
            " [ 5.14  5.46]\n",
            " [10.16 10.27]]\n",
            "R-squared: 0.7897213393035462\n"
          ]
        }
      ],
      "source": [
        "# Importing the libraries\n",
        "import numpy as np\n",
        "import matplotlib.pyplot as plt\n",
        "import pandas as pd\n",
        "from sklearn.model_selection import train_test_split\n",
        "from sklearn.linear_model import LinearRegression\n",
        "\n",
        "# Loading the dataset\n",
        "dataset_path = '/content/drive/MyDrive/Colab Notebooks/bottle.csv'\n",
        "dataset = pd.read_csv(dataset_path)\n",
        "\n",
        "# Cleaning the dataset\n",
        "dataset = dataset.dropna(subset=['T_degC', 'Salnty', 'Depthm', 'O2ml_L'])\n",
        "\n",
        "# Selecting the independent variables and the dependent variable\n",
        "X = dataset[['Salnty', 'Depthm', 'O2ml_L']].values\n",
        "y = dataset['T_degC'].values\n",
        "\n",
        "# Splitting the dataset into the Training set and Test set\n",
        "X_train, X_test, y_train, y_test = train_test_split(X, y, test_size = 0.2, random_state = 0)\n",
        "\n",
        "# Training the Multiple Linear Regression model on the Training set\n",
        "regressor = LinearRegression()\n",
        "regressor.fit(X_train, y_train)\n",
        "\n",
        "# Predicting the Test set results\n",
        "y_pred = regressor.predict(X_test)\n",
        "\n",
        "# Predictions of the model\n",
        "np.set_printoptions(precision=2)\n",
        "comparison = np.concatenate((y_pred.reshape(len(y_pred),1), y_test.reshape(len(y_test),1)), axis=1)\n",
        "print(\"Predictions vs Actual Values:\")\n",
        "print(comparison)\n",
        "\n",
        "# R^2\n",
        "r_squared = regressor.score(X_test, y_test)\n",
        "print(f'R-squared: {r_squared}')"
      ]
    }
  ]
}